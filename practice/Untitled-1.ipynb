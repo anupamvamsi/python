
dotty = [['.'] * n] * n

print()
count = 0
for i in range(n):
    for j in range(n):
        print(matrix[i][j], end=' ')
    print()

print(dotty)
